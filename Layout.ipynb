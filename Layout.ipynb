{
 "cells": [
  {
   "cell_type": "code",
   "execution_count": 1,
   "id": "42a0a25e",
   "metadata": {},
   "outputs": [],
   "source": [
    "import sympy as sym\n",
    "from IPython.display import display, Markdown, Latex, Math, display_markdown"
   ]
  },
  {
   "cell_type": "markdown",
   "id": "d7e08429",
   "metadata": {},
   "source": [
    "### Problem\n",
    "f ≤ 1<br>\n",
    "w + f*aw ≤ W<br>\n",
    "w + (1-f)*ah ≤ H<br>\n",
    "max w<br>\n",
    "[z,w,f,s1,s2,s3]"
   ]
  },
  {
   "cell_type": "code",
   "execution_count": 2,
   "id": "cf052fc5",
   "metadata": {},
   "outputs": [
    {
     "data": {
      "text/latex": [
       "$\\displaystyle \\left[\\begin{matrix}1 & -1 & 0 & 0 & 0 & 0 & 0\\\\0 & 1 & aw & 1 & 0 & 0 & W\\\\0 & 1 & - ah & 0 & 1 & 0 & H - ah\\\\0 & 0 & 1 & 0 & 0 & 1 & 1\\end{matrix}\\right]$"
      ],
      "text/plain": [
       "Matrix([\n",
       "[1, -1,   0, 0, 0, 0,      0],\n",
       "[0,  1,  aw, 1, 0, 0,      W],\n",
       "[0,  1, -ah, 0, 1, 0, H - ah],\n",
       "[0,  0,   1, 0, 0, 1,      1]])"
      ]
     },
     "execution_count": 2,
     "metadata": {},
     "output_type": "execute_result"
    }
   ],
   "source": [
    "z, w, f, W, H, aw, ah, s1, s2, s3, factor = sym.symbols('z, w, f, W, H, aw, ah, s1, s2, s3, factor')\n",
    "A = sym.Matrix([\n",
    "  [ 1,-1,  0, 0, 0, 0,    0],\n",
    "  [ 0, 1, aw, 1, 0, 0,    W],\n",
    "  [ 0, 1,-ah, 0, 1, 0, H-ah],\n",
    "  [ 0, 0,  1, 0, 0, 1,    1],\n",
    "])\n",
    "A"
   ]
  },
  {
   "cell_type": "code",
   "execution_count": 100,
   "id": "2294ad88",
   "metadata": {},
   "outputs": [
    {
     "data": {
      "text/latex": [
       "$\\displaystyle \\left[\\begin{matrix}1 & -1 & 0 & 0 & 0 & 0\\\\0 & 1 & aw & 1 & 0 & 0\\\\0 & 1 & - ah & 0 & 1 & 0\\\\0 & 0 & 1 & 0 & 0 & 1\\end{matrix}\\right]$"
      ],
      "text/plain": [
       "Matrix([\n",
       "[1, -1,   0, 0, 0, 0],\n",
       "[0,  1,  aw, 1, 0, 0],\n",
       "[0,  1, -ah, 0, 1, 0],\n",
       "[0,  0,   1, 0, 0, 1]])"
      ]
     },
     "execution_count": 100,
     "metadata": {},
     "output_type": "execute_result"
    }
   ],
   "source": [
    "A[:,:-1]*?"
   ]
  },
  {
   "cell_type": "markdown",
   "id": "a99182b1",
   "metadata": {},
   "source": [
    "### Case 1\n",
    "W < H-ah"
   ]
  },
  {
   "cell_type": "code",
   "execution_count": 93,
   "id": "1f871c9c",
   "metadata": {},
   "outputs": [
    {
     "data": {
      "text/latex": [
       "$\\displaystyle \\left[\\begin{matrix}1 & 1 & 0 & 0\\\\0 & 1 & 0 & 0\\\\0 & -1 & 1 & 0\\\\0 & 0 & 0 & 1\\end{matrix}\\right]$"
      ],
      "text/plain": [
       "Matrix([\n",
       "[1,  1, 0, 0],\n",
       "[0,  1, 0, 0],\n",
       "[0, -1, 1, 0],\n",
       "[0,  0, 0, 1]])"
      ]
     },
     "metadata": {},
     "output_type": "display_data"
    },
    {
     "data": {
      "text/latex": [
       "$\\displaystyle \\left[\\begin{matrix}1 & 0 & aw & 1 & 0 & 0 & W\\\\0 & 1 & aw & 1 & 0 & 0 & W\\\\0 & 0 & - ah - aw & -1 & 1 & 0 & H - W - ah\\\\0 & 0 & 1 & 0 & 0 & 1 & 1\\end{matrix}\\right]$"
      ],
      "text/plain": [
       "Matrix([\n",
       "[1, 0,       aw,  1, 0, 0,          W],\n",
       "[0, 1,       aw,  1, 0, 0,          W],\n",
       "[0, 0, -ah - aw, -1, 1, 0, H - W - ah],\n",
       "[0, 0,        1,  0, 0, 1,          1]])"
      ]
     },
     "metadata": {},
     "output_type": "display_data"
    }
   ],
   "source": [
    "E1 = sym.Matrix([[1,1,0,0],[0,1,0,0],[0,-1,1,0],[0,0,0,1]])\n",
    "display(E1)\n",
    "display(E1*A)"
   ]
  },
  {
   "cell_type": "markdown",
   "id": "4bd6f8eb",
   "metadata": {},
   "source": [
    "### Solution 1\n",
    "w=W, f=0"
   ]
  },
  {
   "cell_type": "code",
   "execution_count": 94,
   "id": "cb6e16c6",
   "metadata": {},
   "outputs": [
    {
     "data": {
      "text/latex": [
       "$\\displaystyle factor = \\frac{- H + W + ah}{ah + aw}$"
      ],
      "text/plain": [
       "Eq(factor, (-H + W + ah)/(ah + aw))"
      ]
     },
     "metadata": {},
     "output_type": "display_data"
    },
    {
     "data": {
      "text/latex": [
       "$\\displaystyle W < H - ah$"
      ],
      "text/plain": [
       "W < H - ah"
      ]
     },
     "metadata": {},
     "output_type": "display_data"
    },
    {
     "data": {
      "text/latex": [
       "$\\displaystyle - H + W + ah < 0$"
      ],
      "text/plain": [
       "-H + W + ah < 0"
      ]
     },
     "metadata": {},
     "output_type": "display_data"
    },
    {
     "data": {
      "text/latex": [
       "$\\displaystyle factor < 0$"
      ],
      "text/plain": [
       "factor < 0"
      ]
     },
     "metadata": {},
     "output_type": "display_data"
    }
   ],
   "source": [
    "display(sym.Eq(factor,A1[1,6]/A1[1,2]), W < H-ah, W-H+ah < 0, factor<0)"
   ]
  },
  {
   "cell_type": "markdown",
   "id": "4380e893",
   "metadata": {},
   "source": [
    "### Case 2\n",
    "W > H-ah"
   ]
  },
  {
   "cell_type": "code",
   "execution_count": 3,
   "id": "a39bcd2f",
   "metadata": {},
   "outputs": [
    {
     "data": {
      "text/latex": [
       "$\\displaystyle \\left[\\begin{matrix}1 & -1 & 0 & 0 & 0 & 0 & 0\\\\0 & 1 & aw & 1 & 0 & 0 & W\\\\0 & 1 & - ah & 0 & 1 & 0 & H - ah\\\\0 & 0 & 1 & 0 & 0 & 1 & 1\\end{matrix}\\right]$"
      ],
      "text/plain": [
       "Matrix([\n",
       "[1, -1,   0, 0, 0, 0,      0],\n",
       "[0,  1,  aw, 1, 0, 0,      W],\n",
       "[0,  1, -ah, 0, 1, 0, H - ah],\n",
       "[0,  0,   1, 0, 0, 1,      1]])"
      ]
     },
     "metadata": {},
     "output_type": "display_data"
    },
    {
     "data": {
      "text/latex": [
       "$\\displaystyle \\left[\\begin{matrix}1 & 0 & 1 & 0\\\\0 & 1 & -1 & 0\\\\0 & 0 & 1 & 0\\\\0 & 0 & 0 & 1\\end{matrix}\\right]$"
      ],
      "text/plain": [
       "Matrix([\n",
       "[1, 0,  1, 0],\n",
       "[0, 1, -1, 0],\n",
       "[0, 0,  1, 0],\n",
       "[0, 0,  0, 1]])"
      ]
     },
     "metadata": {},
     "output_type": "display_data"
    },
    {
     "data": {
      "text/latex": [
       "$\\displaystyle \\left[\\begin{matrix}1 & 0 & - ah & 0 & 1 & 0 & H - ah\\\\0 & 0 & ah + aw & 1 & -1 & 0 & - H + W + ah\\\\0 & 1 & - ah & 0 & 1 & 0 & H - ah\\\\0 & 0 & 1 & 0 & 0 & 1 & 1\\end{matrix}\\right]$"
      ],
      "text/plain": [
       "Matrix([\n",
       "[1, 0,     -ah, 0,  1, 0,      H - ah],\n",
       "[0, 0, ah + aw, 1, -1, 0, -H + W + ah],\n",
       "[0, 1,     -ah, 0,  1, 0,      H - ah],\n",
       "[0, 0,       1, 0,  0, 1,           1]])"
      ]
     },
     "metadata": {},
     "output_type": "display_data"
    }
   ],
   "source": [
    "E2 = sym.Matrix([[1,0,1,0],[0,1,-1,0],[0,0,1,0],[0,0,0,1]])\n",
    "display(A)\n",
    "display(E2)\n",
    "A2= E2*A\n",
    "display(A2)"
   ]
  },
  {
   "cell_type": "markdown",
   "id": "2f8a72a8",
   "metadata": {},
   "source": [
    "### Case 2.1"
   ]
  },
  {
   "cell_type": "code",
   "execution_count": 98,
   "id": "a1cd92f6",
   "metadata": {},
   "outputs": [
    {
     "data": {
      "text/latex": [
       "$\\displaystyle \\frac{- H + W + ah}{ah + aw} \\geq 1$"
      ],
      "text/plain": [
       "(-H + W + ah)/(ah + aw) >= 1"
      ]
     },
     "metadata": {},
     "output_type": "display_data"
    },
    {
     "data": {
      "text/latex": [
       "$\\displaystyle factor \\geq 1$"
      ],
      "text/plain": [
       "factor >= 1"
      ]
     },
     "metadata": {},
     "output_type": "display_data"
    }
   ],
   "source": [
    "display(A2[1,6]/A2[1,2] >= A2[3,6]/A2[3,2], factor >= 1)"
   ]
  },
  {
   "cell_type": "code",
   "execution_count": 86,
   "id": "0fb2f38c",
   "metadata": {},
   "outputs": [
    {
     "data": {
      "text/latex": [
       "$\\displaystyle \\left[\\begin{matrix}1 & 0 & 0 & 0 & 1 & ah & H\\\\0 & 0 & 0 & 1 & -1 & - ah - aw & - H + W - aw\\\\0 & 1 & 0 & 0 & 1 & ah & H\\\\0 & 0 & 1 & 0 & 0 & 1 & 1\\end{matrix}\\right]$"
      ],
      "text/plain": [
       "Matrix([\n",
       "[1, 0, 0, 0,  1,       ah,           H],\n",
       "[0, 0, 0, 1, -1, -ah - aw, -H + W - aw],\n",
       "[0, 1, 0, 0,  1,       ah,           H],\n",
       "[0, 0, 1, 0,  0,        1,           1]])"
      ]
     },
     "metadata": {},
     "output_type": "display_data"
    }
   ],
   "source": [
    "E21 = sym.Matrix([[1,0,0,ah],[0,1,0,-aw-ah],[0,0,1,ah],[0,0,0,1]])\n",
    "A21 = E21*A2\n",
    "display(A21)"
   ]
  },
  {
   "cell_type": "markdown",
   "id": "734d1bb2",
   "metadata": {},
   "source": [
    "### Solution 2.1\n",
    "w=H, f=1"
   ]
  },
  {
   "cell_type": "code",
   "execution_count": 4,
   "id": "0ebaeca9",
   "metadata": {},
   "outputs": [
    {
     "data": {
      "text/markdown": [
       "### Case 2.2"
      ]
     },
     "metadata": {},
     "output_type": "display_data"
    },
    {
     "data": {
      "text/markdown": [
       "$\\frac{- H + W + ah}{ah + aw} < 1$"
      ]
     },
     "metadata": {},
     "output_type": "display_data"
    }
   ],
   "source": [
    "display_markdown(\"### Case 2.2\", raw=True)\n",
    "display_markdown(\"$\"+sym.printing.latex(A2[1,6]/A2[1,2] < A2[3,6]/A2[3,2])+\"$\", raw=True)"
   ]
  },
  {
   "cell_type": "code",
   "execution_count": 5,
   "id": "dc709b37",
   "metadata": {},
   "outputs": [
    {
     "data": {
      "text/latex": [
       "$\\displaystyle \\left[\\begin{matrix}1 & 0 & 0 & \\frac{ah}{ah + aw} & - \\frac{ah}{ah + aw} + 1 & 0 & H - ah + \\frac{ah \\left(- H + W + ah\\right)}{ah + aw}\\\\0 & 0 & ah + aw & 1 & -1 & 0 & - H + W + ah\\\\0 & 1 & 0 & \\frac{ah}{ah + aw} & - \\frac{ah}{ah + aw} + 1 & 0 & H - ah + \\frac{ah \\left(- H + W + ah\\right)}{ah + aw}\\\\0 & 0 & 0 & - \\frac{1}{ah + aw} & \\frac{1}{ah + aw} & 1 & 1 - \\frac{- H + W + ah}{ah + aw}\\end{matrix}\\right]$"
      ],
      "text/plain": [
       "Matrix([\n",
       "[1, 0,       0, ah/(ah + aw), -ah/(ah + aw) + 1, 0, H - ah + ah*(-H + W + ah)/(ah + aw)],\n",
       "[0, 0, ah + aw,            1,                -1, 0,                         -H + W + ah],\n",
       "[0, 1,       0, ah/(ah + aw), -ah/(ah + aw) + 1, 0, H - ah + ah*(-H + W + ah)/(ah + aw)],\n",
       "[0, 0,       0, -1/(ah + aw),       1/(ah + aw), 1,         1 - (-H + W + ah)/(ah + aw)]])"
      ]
     },
     "metadata": {},
     "output_type": "display_data"
    }
   ],
   "source": [
    "E22 = sym.Matrix([[1,-A2[0,2]/A2[1,2],0,0], [0,1,0,0],\n",
    "                  [0,-A2[2,2]/A2[1,2],1,0], [0,-A2[3,2]/A2[1,2],0,1]])\n",
    "A22 = E22*A2\n",
    "display(A22)"
   ]
  },
  {
   "cell_type": "code",
   "execution_count": 6,
   "id": "0ce61cb3",
   "metadata": {},
   "outputs": [
    {
     "data": {
      "text/markdown": [
       "### Solution 2.2"
      ]
     },
     "metadata": {},
     "output_type": "display_data"
    },
    {
     "data": {
      "text/latex": [
       "$\\displaystyle f = \\frac{- H + W + ah}{ah + aw}$"
      ],
      "text/plain": [
       "Eq(f, (-H + W + ah)/(ah + aw))"
      ]
     },
     "metadata": {},
     "output_type": "display_data"
    },
    {
     "data": {
      "text/latex": [
       "$\\displaystyle w = H - ah + \\frac{ah \\left(- H + W + ah\\right)}{ah + aw}$"
      ],
      "text/plain": [
       "Eq(w, H - ah + ah*(-H + W + ah)/(ah + aw))"
      ]
     },
     "metadata": {},
     "output_type": "display_data"
    },
    {
     "data": {
      "text/latex": [
       "$\\displaystyle w = H + ah \\left(f - 1\\right)$"
      ],
      "text/plain": [
       "Eq(w, H + ah*(f - 1))"
      ]
     },
     "metadata": {},
     "output_type": "display_data"
    }
   ],
   "source": [
    "display_markdown(\"### Solution 2.2\", raw=True)\n",
    "display(sym.Eq(f,A22[1,6]/A22[1,2]))\n",
    "display(sym.Eq(w,A22[2,6]/A22[2,1]))\n",
    "display(sym.Eq(w,H+ah*(f-1)))"
   ]
  },
  {
   "cell_type": "code",
   "execution_count": null,
   "id": "0f5e3b05",
   "metadata": {},
   "outputs": [],
   "source": []
  }
 ],
 "metadata": {
  "kernelspec": {
   "display_name": "Python 3 (ipykernel)",
   "language": "python",
   "name": "python3"
  },
  "language_info": {
   "codemirror_mode": {
    "name": "ipython",
    "version": 3
   },
   "file_extension": ".py",
   "mimetype": "text/x-python",
   "name": "python",
   "nbconvert_exporter": "python",
   "pygments_lexer": "ipython3",
   "version": "3.11.0"
  }
 },
 "nbformat": 4,
 "nbformat_minor": 5
}
